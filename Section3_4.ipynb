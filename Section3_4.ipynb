{
 "cells": [
  {
   "cell_type": "markdown",
   "metadata": {},
   "source": [
    "# PART4 欠損値を確認してみよう"
   ]
  },
  {
   "cell_type": "markdown",
   "metadata": {},
   "source": [
    "## おまじない"
   ]
  },
  {
   "cell_type": "code",
   "execution_count": 1,
   "metadata": {},
   "outputs": [],
   "source": [
    "import pandas as pd\n",
    "import numpy as np\n",
    "from matplotlib import pyplot as plt\n",
    "%matplotlib inline"
   ]
  },
  {
   "cell_type": "markdown",
   "metadata": {},
   "source": [
    "## データの読み込み\n",
    "- train.csvを読み込みましょう\n",
    "- 読み込んだものは変数trainに代入しましょう"
   ]
  },
  {
   "cell_type": "code",
   "execution_count": 2,
   "metadata": {},
   "outputs": [],
   "source": [
    "train = pd.read_csv(\"train.csv\")"
   ]
  },
  {
   "cell_type": "markdown",
   "metadata": {},
   "source": [
    "## trainの先頭行を確認しましょう"
   ]
  },
  {
   "cell_type": "code",
   "execution_count": 3,
   "metadata": {},
   "outputs": [
    {
     "data": {
      "text/html": "<div>\n<style scoped>\n    .dataframe tbody tr th:only-of-type {\n        vertical-align: middle;\n    }\n\n    .dataframe tbody tr th {\n        vertical-align: top;\n    }\n\n    .dataframe thead th {\n        text-align: right;\n    }\n</style>\n<table border=\"1\" class=\"dataframe\">\n  <thead>\n    <tr style=\"text-align: right;\">\n      <th></th>\n      <th>datetime</th>\n      <th>y</th>\n      <th>week</th>\n      <th>soldout</th>\n      <th>name</th>\n      <th>kcal</th>\n      <th>remarks</th>\n      <th>event</th>\n      <th>payday</th>\n      <th>weather</th>\n      <th>precipitation</th>\n      <th>temperature</th>\n    </tr>\n  </thead>\n  <tbody>\n    <tr>\n      <th>0</th>\n      <td>2013-11-18</td>\n      <td>90</td>\n      <td>月</td>\n      <td>0</td>\n      <td>厚切りイカフライ</td>\n      <td>NaN</td>\n      <td>NaN</td>\n      <td>NaN</td>\n      <td>NaN</td>\n      <td>快晴</td>\n      <td>--</td>\n      <td>19.8</td>\n    </tr>\n    <tr>\n      <th>1</th>\n      <td>2013-11-19</td>\n      <td>101</td>\n      <td>火</td>\n      <td>1</td>\n      <td>手作りヒレカツ</td>\n      <td>NaN</td>\n      <td>NaN</td>\n      <td>NaN</td>\n      <td>NaN</td>\n      <td>快晴</td>\n      <td>--</td>\n      <td>17.0</td>\n    </tr>\n    <tr>\n      <th>2</th>\n      <td>2013-11-20</td>\n      <td>118</td>\n      <td>水</td>\n      <td>0</td>\n      <td>白身魚唐揚げ野菜あん</td>\n      <td>NaN</td>\n      <td>NaN</td>\n      <td>NaN</td>\n      <td>NaN</td>\n      <td>快晴</td>\n      <td>--</td>\n      <td>15.5</td>\n    </tr>\n    <tr>\n      <th>3</th>\n      <td>2013-11-21</td>\n      <td>120</td>\n      <td>木</td>\n      <td>1</td>\n      <td>若鶏ピリ辛焼</td>\n      <td>NaN</td>\n      <td>NaN</td>\n      <td>NaN</td>\n      <td>NaN</td>\n      <td>快晴</td>\n      <td>--</td>\n      <td>15.2</td>\n    </tr>\n    <tr>\n      <th>4</th>\n      <td>2013-11-22</td>\n      <td>130</td>\n      <td>金</td>\n      <td>1</td>\n      <td>ビッグメンチカツ</td>\n      <td>NaN</td>\n      <td>NaN</td>\n      <td>NaN</td>\n      <td>NaN</td>\n      <td>快晴</td>\n      <td>--</td>\n      <td>16.1</td>\n    </tr>\n  </tbody>\n</table>\n</div>",
      "text/plain": "     datetime    y week  soldout        name  kcal remarks event  payday  \\\n0  2013-11-18   90    月        0    厚切りイカフライ   NaN     NaN   NaN     NaN   \n1  2013-11-19  101    火        1     手作りヒレカツ   NaN     NaN   NaN     NaN   \n2  2013-11-20  118    水        0  白身魚唐揚げ野菜あん   NaN     NaN   NaN     NaN   \n3  2013-11-21  120    木        1      若鶏ピリ辛焼   NaN     NaN   NaN     NaN   \n4  2013-11-22  130    金        1    ビッグメンチカツ   NaN     NaN   NaN     NaN   \n\n  weather precipitation  temperature  \n0      快晴            --         19.8  \n1      快晴            --         17.0  \n2      快晴            --         15.5  \n3      快晴            --         15.2  \n4      快晴            --         16.1  "
     },
     "execution_count": 3,
     "metadata": {},
     "output_type": "execute_result"
    }
   ],
   "source": [
    "train.head()"
   ]
  },
  {
   "cell_type": "markdown",
   "metadata": {},
   "source": [
    "## 各値が欠損値か否かを出力しましょう\n",
    "- 欠損とは何らかの理由で、データの値が入っていない状態のことをいいます\n",
    "- データ分析において欠損がある場合の対応はとても重要となります\n",
    "- 欠損の有無を確認する為にはisnull関数を使います\n",
    "- 欠損値の時、Trueと表示されます"
   ]
  },
  {
   "cell_type": "code",
   "execution_count": 4,
   "metadata": {},
   "outputs": [
    {
     "data": {
      "text/html": "<div>\n<style scoped>\n    .dataframe tbody tr th:only-of-type {\n        vertical-align: middle;\n    }\n\n    .dataframe tbody tr th {\n        vertical-align: top;\n    }\n\n    .dataframe thead th {\n        text-align: right;\n    }\n</style>\n<table border=\"1\" class=\"dataframe\">\n  <thead>\n    <tr style=\"text-align: right;\">\n      <th></th>\n      <th>datetime</th>\n      <th>y</th>\n      <th>week</th>\n      <th>soldout</th>\n      <th>name</th>\n      <th>kcal</th>\n      <th>remarks</th>\n      <th>event</th>\n      <th>payday</th>\n      <th>weather</th>\n      <th>precipitation</th>\n      <th>temperature</th>\n    </tr>\n  </thead>\n  <tbody>\n    <tr>\n      <th>0</th>\n      <td>False</td>\n      <td>False</td>\n      <td>False</td>\n      <td>False</td>\n      <td>False</td>\n      <td>True</td>\n      <td>True</td>\n      <td>True</td>\n      <td>True</td>\n      <td>False</td>\n      <td>False</td>\n      <td>False</td>\n    </tr>\n    <tr>\n      <th>1</th>\n      <td>False</td>\n      <td>False</td>\n      <td>False</td>\n      <td>False</td>\n      <td>False</td>\n      <td>True</td>\n      <td>True</td>\n      <td>True</td>\n      <td>True</td>\n      <td>False</td>\n      <td>False</td>\n      <td>False</td>\n    </tr>\n    <tr>\n      <th>2</th>\n      <td>False</td>\n      <td>False</td>\n      <td>False</td>\n      <td>False</td>\n      <td>False</td>\n      <td>True</td>\n      <td>True</td>\n      <td>True</td>\n      <td>True</td>\n      <td>False</td>\n      <td>False</td>\n      <td>False</td>\n    </tr>\n    <tr>\n      <th>3</th>\n      <td>False</td>\n      <td>False</td>\n      <td>False</td>\n      <td>False</td>\n      <td>False</td>\n      <td>True</td>\n      <td>True</td>\n      <td>True</td>\n      <td>True</td>\n      <td>False</td>\n      <td>False</td>\n      <td>False</td>\n    </tr>\n    <tr>\n      <th>4</th>\n      <td>False</td>\n      <td>False</td>\n      <td>False</td>\n      <td>False</td>\n      <td>False</td>\n      <td>True</td>\n      <td>True</td>\n      <td>True</td>\n      <td>True</td>\n      <td>False</td>\n      <td>False</td>\n      <td>False</td>\n    </tr>\n    <tr>\n      <th>...</th>\n      <td>...</td>\n      <td>...</td>\n      <td>...</td>\n      <td>...</td>\n      <td>...</td>\n      <td>...</td>\n      <td>...</td>\n      <td>...</td>\n      <td>...</td>\n      <td>...</td>\n      <td>...</td>\n      <td>...</td>\n    </tr>\n    <tr>\n      <th>202</th>\n      <td>False</td>\n      <td>False</td>\n      <td>False</td>\n      <td>False</td>\n      <td>False</td>\n      <td>False</td>\n      <td>True</td>\n      <td>True</td>\n      <td>True</td>\n      <td>False</td>\n      <td>False</td>\n      <td>False</td>\n    </tr>\n    <tr>\n      <th>203</th>\n      <td>False</td>\n      <td>False</td>\n      <td>False</td>\n      <td>False</td>\n      <td>False</td>\n      <td>False</td>\n      <td>True</td>\n      <td>True</td>\n      <td>True</td>\n      <td>False</td>\n      <td>False</td>\n      <td>False</td>\n    </tr>\n    <tr>\n      <th>204</th>\n      <td>False</td>\n      <td>False</td>\n      <td>False</td>\n      <td>False</td>\n      <td>False</td>\n      <td>True</td>\n      <td>False</td>\n      <td>False</td>\n      <td>True</td>\n      <td>False</td>\n      <td>False</td>\n      <td>False</td>\n    </tr>\n    <tr>\n      <th>205</th>\n      <td>False</td>\n      <td>False</td>\n      <td>False</td>\n      <td>False</td>\n      <td>False</td>\n      <td>False</td>\n      <td>True</td>\n      <td>True</td>\n      <td>True</td>\n      <td>False</td>\n      <td>False</td>\n      <td>False</td>\n    </tr>\n    <tr>\n      <th>206</th>\n      <td>False</td>\n      <td>False</td>\n      <td>False</td>\n      <td>False</td>\n      <td>False</td>\n      <td>False</td>\n      <td>True</td>\n      <td>True</td>\n      <td>True</td>\n      <td>False</td>\n      <td>False</td>\n      <td>False</td>\n    </tr>\n  </tbody>\n</table>\n<p>207 rows × 12 columns</p>\n</div>",
      "text/plain": "     datetime      y   week  soldout   name   kcal  remarks  event  payday  \\\n0       False  False  False    False  False   True     True   True    True   \n1       False  False  False    False  False   True     True   True    True   \n2       False  False  False    False  False   True     True   True    True   \n3       False  False  False    False  False   True     True   True    True   \n4       False  False  False    False  False   True     True   True    True   \n..        ...    ...    ...      ...    ...    ...      ...    ...     ...   \n202     False  False  False    False  False  False     True   True    True   \n203     False  False  False    False  False  False     True   True    True   \n204     False  False  False    False  False   True    False  False    True   \n205     False  False  False    False  False  False     True   True    True   \n206     False  False  False    False  False  False     True   True    True   \n\n     weather  precipitation  temperature  \n0      False          False        False  \n1      False          False        False  \n2      False          False        False  \n3      False          False        False  \n4      False          False        False  \n..       ...            ...          ...  \n202    False          False        False  \n203    False          False        False  \n204    False          False        False  \n205    False          False        False  \n206    False          False        False  \n\n[207 rows x 12 columns]"
     },
     "execution_count": 4,
     "metadata": {},
     "output_type": "execute_result"
    }
   ],
   "source": [
    "train.isnull()"
   ]
  },
  {
   "cell_type": "markdown",
   "metadata": {},
   "source": [
    "## 各列（カラム）にTrueが１つ以上あるかないかを確かめてみましょう\n",
    "- isnull関数のあとにany関数を付け加えます。付け加える時はドット(.)で繋ぎます\n",
    "- 1つ以上欠損値を含んでいる場合、Trueと表示されます"
   ]
  },
  {
   "cell_type": "code",
   "execution_count": 6,
   "metadata": {},
   "outputs": [
    {
     "data": {
      "text/plain": "datetime         False\ny                False\nweek             False\nsoldout          False\nname             False\nkcal              True\nremarks           True\nevent             True\npayday            True\nweather          False\nprecipitation    False\ntemperature      False\ndtype: bool"
     },
     "execution_count": 6,
     "metadata": {},
     "output_type": "execute_result"
    }
   ],
   "source": [
    "train.isnull().any()"
   ]
  },
  {
   "cell_type": "markdown",
   "metadata": {},
   "source": [
    "## 具体的に各列（カラム）に欠損値が幾つあるか数えてみましょう\n",
    "- isnull関数のあとにsum関数を付け加えます"
   ]
  },
  {
   "cell_type": "code",
   "execution_count": 7,
   "metadata": {},
   "outputs": [
    {
     "data": {
      "text/plain": "datetime           0\ny                  0\nweek               0\nsoldout            0\nname               0\nkcal              41\nremarks          186\nevent            193\npayday           197\nweather            0\nprecipitation      0\ntemperature        0\ndtype: int64"
     },
     "execution_count": 7,
     "metadata": {},
     "output_type": "execute_result"
    }
   ],
   "source": [
    "train.isnull().sum()"
   ]
  },
  {
   "cell_type": "markdown",
   "metadata": {},
   "source": [
    "## もう一度trainの先頭行を出力し、kcalに注目してみましょう"
   ]
  },
  {
   "cell_type": "code",
   "execution_count": 8,
   "metadata": {},
   "outputs": [
    {
     "data": {
      "text/html": "<div>\n<style scoped>\n    .dataframe tbody tr th:only-of-type {\n        vertical-align: middle;\n    }\n\n    .dataframe tbody tr th {\n        vertical-align: top;\n    }\n\n    .dataframe thead th {\n        text-align: right;\n    }\n</style>\n<table border=\"1\" class=\"dataframe\">\n  <thead>\n    <tr style=\"text-align: right;\">\n      <th></th>\n      <th>datetime</th>\n      <th>y</th>\n      <th>week</th>\n      <th>soldout</th>\n      <th>name</th>\n      <th>kcal</th>\n      <th>remarks</th>\n      <th>event</th>\n      <th>payday</th>\n      <th>weather</th>\n      <th>precipitation</th>\n      <th>temperature</th>\n    </tr>\n  </thead>\n  <tbody>\n    <tr>\n      <th>0</th>\n      <td>2013-11-18</td>\n      <td>90</td>\n      <td>月</td>\n      <td>0</td>\n      <td>厚切りイカフライ</td>\n      <td>NaN</td>\n      <td>NaN</td>\n      <td>NaN</td>\n      <td>NaN</td>\n      <td>快晴</td>\n      <td>--</td>\n      <td>19.8</td>\n    </tr>\n    <tr>\n      <th>1</th>\n      <td>2013-11-19</td>\n      <td>101</td>\n      <td>火</td>\n      <td>1</td>\n      <td>手作りヒレカツ</td>\n      <td>NaN</td>\n      <td>NaN</td>\n      <td>NaN</td>\n      <td>NaN</td>\n      <td>快晴</td>\n      <td>--</td>\n      <td>17.0</td>\n    </tr>\n    <tr>\n      <th>2</th>\n      <td>2013-11-20</td>\n      <td>118</td>\n      <td>水</td>\n      <td>0</td>\n      <td>白身魚唐揚げ野菜あん</td>\n      <td>NaN</td>\n      <td>NaN</td>\n      <td>NaN</td>\n      <td>NaN</td>\n      <td>快晴</td>\n      <td>--</td>\n      <td>15.5</td>\n    </tr>\n    <tr>\n      <th>3</th>\n      <td>2013-11-21</td>\n      <td>120</td>\n      <td>木</td>\n      <td>1</td>\n      <td>若鶏ピリ辛焼</td>\n      <td>NaN</td>\n      <td>NaN</td>\n      <td>NaN</td>\n      <td>NaN</td>\n      <td>快晴</td>\n      <td>--</td>\n      <td>15.2</td>\n    </tr>\n    <tr>\n      <th>4</th>\n      <td>2013-11-22</td>\n      <td>130</td>\n      <td>金</td>\n      <td>1</td>\n      <td>ビッグメンチカツ</td>\n      <td>NaN</td>\n      <td>NaN</td>\n      <td>NaN</td>\n      <td>NaN</td>\n      <td>快晴</td>\n      <td>--</td>\n      <td>16.1</td>\n    </tr>\n  </tbody>\n</table>\n</div>",
      "text/plain": "     datetime    y week  soldout        name  kcal remarks event  payday  \\\n0  2013-11-18   90    月        0    厚切りイカフライ   NaN     NaN   NaN     NaN   \n1  2013-11-19  101    火        1     手作りヒレカツ   NaN     NaN   NaN     NaN   \n2  2013-11-20  118    水        0  白身魚唐揚げ野菜あん   NaN     NaN   NaN     NaN   \n3  2013-11-21  120    木        1      若鶏ピリ辛焼   NaN     NaN   NaN     NaN   \n4  2013-11-22  130    金        1    ビッグメンチカツ   NaN     NaN   NaN     NaN   \n\n  weather precipitation  temperature  \n0      快晴            --         19.8  \n1      快晴            --         17.0  \n2      快晴            --         15.5  \n3      快晴            --         15.2  \n4      快晴            --         16.1  "
     },
     "execution_count": 8,
     "metadata": {},
     "output_type": "execute_result"
    }
   ],
   "source": [
    "train.head()"
   ]
  },
  {
   "cell_type": "markdown",
   "metadata": {},
   "source": [
    "## 欠損値の処理をしましょう\n",
    "- 欠損値の処理は別のなんらかの値を代入（補間といいます）するか、欠損値を含む行を削除するかで対応します\n",
    "- ここではまず、欠損値を0で補間してみましょう\n",
    "- fillna関数を使います"
   ]
  },
  {
   "cell_type": "code",
   "execution_count": 9,
   "metadata": {},
   "outputs": [
    {
     "data": {
      "text/html": "<div>\n<style scoped>\n    .dataframe tbody tr th:only-of-type {\n        vertical-align: middle;\n    }\n\n    .dataframe tbody tr th {\n        vertical-align: top;\n    }\n\n    .dataframe thead th {\n        text-align: right;\n    }\n</style>\n<table border=\"1\" class=\"dataframe\">\n  <thead>\n    <tr style=\"text-align: right;\">\n      <th></th>\n      <th>datetime</th>\n      <th>y</th>\n      <th>week</th>\n      <th>soldout</th>\n      <th>name</th>\n      <th>kcal</th>\n      <th>remarks</th>\n      <th>event</th>\n      <th>payday</th>\n      <th>weather</th>\n      <th>precipitation</th>\n      <th>temperature</th>\n    </tr>\n  </thead>\n  <tbody>\n    <tr>\n      <th>0</th>\n      <td>2013-11-18</td>\n      <td>90</td>\n      <td>月</td>\n      <td>0</td>\n      <td>厚切りイカフライ</td>\n      <td>0.0</td>\n      <td>0</td>\n      <td>0</td>\n      <td>0.0</td>\n      <td>快晴</td>\n      <td>--</td>\n      <td>19.8</td>\n    </tr>\n    <tr>\n      <th>1</th>\n      <td>2013-11-19</td>\n      <td>101</td>\n      <td>火</td>\n      <td>1</td>\n      <td>手作りヒレカツ</td>\n      <td>0.0</td>\n      <td>0</td>\n      <td>0</td>\n      <td>0.0</td>\n      <td>快晴</td>\n      <td>--</td>\n      <td>17.0</td>\n    </tr>\n    <tr>\n      <th>2</th>\n      <td>2013-11-20</td>\n      <td>118</td>\n      <td>水</td>\n      <td>0</td>\n      <td>白身魚唐揚げ野菜あん</td>\n      <td>0.0</td>\n      <td>0</td>\n      <td>0</td>\n      <td>0.0</td>\n      <td>快晴</td>\n      <td>--</td>\n      <td>15.5</td>\n    </tr>\n    <tr>\n      <th>3</th>\n      <td>2013-11-21</td>\n      <td>120</td>\n      <td>木</td>\n      <td>1</td>\n      <td>若鶏ピリ辛焼</td>\n      <td>0.0</td>\n      <td>0</td>\n      <td>0</td>\n      <td>0.0</td>\n      <td>快晴</td>\n      <td>--</td>\n      <td>15.2</td>\n    </tr>\n    <tr>\n      <th>4</th>\n      <td>2013-11-22</td>\n      <td>130</td>\n      <td>金</td>\n      <td>1</td>\n      <td>ビッグメンチカツ</td>\n      <td>0.0</td>\n      <td>0</td>\n      <td>0</td>\n      <td>0.0</td>\n      <td>快晴</td>\n      <td>--</td>\n      <td>16.1</td>\n    </tr>\n    <tr>\n      <th>...</th>\n      <td>...</td>\n      <td>...</td>\n      <td>...</td>\n      <td>...</td>\n      <td>...</td>\n      <td>...</td>\n      <td>...</td>\n      <td>...</td>\n      <td>...</td>\n      <td>...</td>\n      <td>...</td>\n      <td>...</td>\n    </tr>\n    <tr>\n      <th>202</th>\n      <td>2014-9-24</td>\n      <td>59</td>\n      <td>水</td>\n      <td>1</td>\n      <td>白身魚のマスタード焼き</td>\n      <td>408.0</td>\n      <td>0</td>\n      <td>0</td>\n      <td>0.0</td>\n      <td>曇</td>\n      <td>0</td>\n      <td>24.8</td>\n    </tr>\n    <tr>\n      <th>203</th>\n      <td>2014-9-25</td>\n      <td>50</td>\n      <td>木</td>\n      <td>0</td>\n      <td>牛カルビ焼き肉</td>\n      <td>394.0</td>\n      <td>0</td>\n      <td>0</td>\n      <td>0.0</td>\n      <td>曇</td>\n      <td>0</td>\n      <td>25.4</td>\n    </tr>\n    <tr>\n      <th>204</th>\n      <td>2014-9-26</td>\n      <td>45</td>\n      <td>金</td>\n      <td>0</td>\n      <td>ランチビュッフェ</td>\n      <td>0.0</td>\n      <td>スペシャルメニュー（800円）</td>\n      <td>キャリアアップ支援セミナー</td>\n      <td>0.0</td>\n      <td>晴れ</td>\n      <td>--</td>\n      <td>27.1</td>\n    </tr>\n    <tr>\n      <th>205</th>\n      <td>2014-9-29</td>\n      <td>56</td>\n      <td>月</td>\n      <td>1</td>\n      <td>豚肉と玉子の炒め</td>\n      <td>404.0</td>\n      <td>0</td>\n      <td>0</td>\n      <td>0.0</td>\n      <td>快晴</td>\n      <td>--</td>\n      <td>26.6</td>\n    </tr>\n    <tr>\n      <th>206</th>\n      <td>2014-9-30</td>\n      <td>40</td>\n      <td>火</td>\n      <td>0</td>\n      <td>鶏肉とカシューナッツ炒め</td>\n      <td>398.0</td>\n      <td>0</td>\n      <td>0</td>\n      <td>0.0</td>\n      <td>快晴</td>\n      <td>--</td>\n      <td>28.1</td>\n    </tr>\n  </tbody>\n</table>\n<p>207 rows × 12 columns</p>\n</div>",
      "text/plain": "       datetime    y week  soldout          name   kcal          remarks  \\\n0    2013-11-18   90    月        0      厚切りイカフライ    0.0                0   \n1    2013-11-19  101    火        1       手作りヒレカツ    0.0                0   \n2    2013-11-20  118    水        0    白身魚唐揚げ野菜あん    0.0                0   \n3    2013-11-21  120    木        1        若鶏ピリ辛焼    0.0                0   \n4    2013-11-22  130    金        1      ビッグメンチカツ    0.0                0   \n..          ...  ...  ...      ...           ...    ...              ...   \n202   2014-9-24   59    水        1   白身魚のマスタード焼き  408.0                0   \n203   2014-9-25   50    木        0       牛カルビ焼き肉  394.0                0   \n204   2014-9-26   45    金        0      ランチビュッフェ    0.0  スペシャルメニュー（800円）   \n205   2014-9-29   56    月        1      豚肉と玉子の炒め  404.0                0   \n206   2014-9-30   40    火        0  鶏肉とカシューナッツ炒め  398.0                0   \n\n             event  payday weather precipitation  temperature  \n0                0     0.0      快晴            --         19.8  \n1                0     0.0      快晴            --         17.0  \n2                0     0.0      快晴            --         15.5  \n3                0     0.0      快晴            --         15.2  \n4                0     0.0      快晴            --         16.1  \n..             ...     ...     ...           ...          ...  \n202              0     0.0       曇             0         24.8  \n203              0     0.0       曇             0         25.4  \n204  キャリアアップ支援セミナー     0.0      晴れ            --         27.1  \n205              0     0.0      快晴            --         26.6  \n206              0     0.0      快晴            --         28.1  \n\n[207 rows x 12 columns]"
     },
     "execution_count": 9,
     "metadata": {},
     "output_type": "execute_result"
    }
   ],
   "source": [
    "train.fillna(0)"
   ]
  },
  {
   "cell_type": "markdown",
   "metadata": {},
   "source": [
    "## 今度は欠損値を削除してみましょう\n",
    "- dropna関数を使います\n",
    "- ある列に欠損値があった場合のみ、その行を削除したい場合はオプションとしてsubset=[ ]を使います"
   ]
  },
  {
   "cell_type": "code",
   "execution_count": 10,
   "metadata": {},
   "outputs": [
    {
     "data": {
      "text/html": "<div>\n<style scoped>\n    .dataframe tbody tr th:only-of-type {\n        vertical-align: middle;\n    }\n\n    .dataframe tbody tr th {\n        vertical-align: top;\n    }\n\n    .dataframe thead th {\n        text-align: right;\n    }\n</style>\n<table border=\"1\" class=\"dataframe\">\n  <thead>\n    <tr style=\"text-align: right;\">\n      <th></th>\n      <th>datetime</th>\n      <th>y</th>\n      <th>week</th>\n      <th>soldout</th>\n      <th>name</th>\n      <th>kcal</th>\n      <th>remarks</th>\n      <th>event</th>\n      <th>payday</th>\n      <th>weather</th>\n      <th>precipitation</th>\n      <th>temperature</th>\n    </tr>\n  </thead>\n  <tbody>\n  </tbody>\n</table>\n</div>",
      "text/plain": "Empty DataFrame\nColumns: [datetime, y, week, soldout, name, kcal, remarks, event, payday, weather, precipitation, temperature]\nIndex: []"
     },
     "execution_count": 10,
     "metadata": {},
     "output_type": "execute_result"
    }
   ],
   "source": [
    "train.dropna()"
   ]
  },
  {
   "cell_type": "code",
   "execution_count": 11,
   "metadata": {},
   "outputs": [
    {
     "data": {
      "text/html": "<div>\n<style scoped>\n    .dataframe tbody tr th:only-of-type {\n        vertical-align: middle;\n    }\n\n    .dataframe tbody tr th {\n        vertical-align: top;\n    }\n\n    .dataframe thead th {\n        text-align: right;\n    }\n</style>\n<table border=\"1\" class=\"dataframe\">\n  <thead>\n    <tr style=\"text-align: right;\">\n      <th></th>\n      <th>datetime</th>\n      <th>y</th>\n      <th>week</th>\n      <th>soldout</th>\n      <th>name</th>\n      <th>kcal</th>\n      <th>remarks</th>\n      <th>event</th>\n      <th>payday</th>\n      <th>weather</th>\n      <th>precipitation</th>\n      <th>temperature</th>\n    </tr>\n  </thead>\n  <tbody>\n    <tr>\n      <th>28</th>\n      <td>2014-1-7</td>\n      <td>131</td>\n      <td>火</td>\n      <td>0</td>\n      <td>カレー入りソーセージカツ</td>\n      <td>404.0</td>\n      <td>NaN</td>\n      <td>NaN</td>\n      <td>NaN</td>\n      <td>快晴</td>\n      <td>--</td>\n      <td>7.3</td>\n    </tr>\n    <tr>\n      <th>29</th>\n      <td>2014-1-8</td>\n      <td>128</td>\n      <td>水</td>\n      <td>0</td>\n      <td>豚肉の生姜焼</td>\n      <td>462.0</td>\n      <td>NaN</td>\n      <td>NaN</td>\n      <td>NaN</td>\n      <td>曇</td>\n      <td>--</td>\n      <td>9.8</td>\n    </tr>\n    <tr>\n      <th>30</th>\n      <td>2014-1-9</td>\n      <td>129</td>\n      <td>木</td>\n      <td>1</td>\n      <td>鶏チリソース</td>\n      <td>435.0</td>\n      <td>NaN</td>\n      <td>NaN</td>\n      <td>NaN</td>\n      <td>曇</td>\n      <td>--</td>\n      <td>10.9</td>\n    </tr>\n    <tr>\n      <th>31</th>\n      <td>2014-1-10</td>\n      <td>87</td>\n      <td>金</td>\n      <td>0</td>\n      <td>手作りロースカツ</td>\n      <td>440.0</td>\n      <td>NaN</td>\n      <td>NaN</td>\n      <td>1.0</td>\n      <td>快晴</td>\n      <td>--</td>\n      <td>5.1</td>\n    </tr>\n    <tr>\n      <th>32</th>\n      <td>2014-1-14</td>\n      <td>129</td>\n      <td>火</td>\n      <td>1</td>\n      <td>鶏の照り焼きマスタード</td>\n      <td>376.0</td>\n      <td>NaN</td>\n      <td>NaN</td>\n      <td>NaN</td>\n      <td>晴れ</td>\n      <td>--</td>\n      <td>5.8</td>\n    </tr>\n    <tr>\n      <th>...</th>\n      <td>...</td>\n      <td>...</td>\n      <td>...</td>\n      <td>...</td>\n      <td>...</td>\n      <td>...</td>\n      <td>...</td>\n      <td>...</td>\n      <td>...</td>\n      <td>...</td>\n      <td>...</td>\n      <td>...</td>\n    </tr>\n    <tr>\n      <th>201</th>\n      <td>2014-9-22</td>\n      <td>29</td>\n      <td>月</td>\n      <td>0</td>\n      <td>筑前煮</td>\n      <td>395.0</td>\n      <td>NaN</td>\n      <td>NaN</td>\n      <td>NaN</td>\n      <td>晴れ</td>\n      <td>--</td>\n      <td>25.2</td>\n    </tr>\n    <tr>\n      <th>202</th>\n      <td>2014-9-24</td>\n      <td>59</td>\n      <td>水</td>\n      <td>1</td>\n      <td>白身魚のマスタード焼き</td>\n      <td>408.0</td>\n      <td>NaN</td>\n      <td>NaN</td>\n      <td>NaN</td>\n      <td>曇</td>\n      <td>0</td>\n      <td>24.8</td>\n    </tr>\n    <tr>\n      <th>203</th>\n      <td>2014-9-25</td>\n      <td>50</td>\n      <td>木</td>\n      <td>0</td>\n      <td>牛カルビ焼き肉</td>\n      <td>394.0</td>\n      <td>NaN</td>\n      <td>NaN</td>\n      <td>NaN</td>\n      <td>曇</td>\n      <td>0</td>\n      <td>25.4</td>\n    </tr>\n    <tr>\n      <th>205</th>\n      <td>2014-9-29</td>\n      <td>56</td>\n      <td>月</td>\n      <td>1</td>\n      <td>豚肉と玉子の炒め</td>\n      <td>404.0</td>\n      <td>NaN</td>\n      <td>NaN</td>\n      <td>NaN</td>\n      <td>快晴</td>\n      <td>--</td>\n      <td>26.6</td>\n    </tr>\n    <tr>\n      <th>206</th>\n      <td>2014-9-30</td>\n      <td>40</td>\n      <td>火</td>\n      <td>0</td>\n      <td>鶏肉とカシューナッツ炒め</td>\n      <td>398.0</td>\n      <td>NaN</td>\n      <td>NaN</td>\n      <td>NaN</td>\n      <td>快晴</td>\n      <td>--</td>\n      <td>28.1</td>\n    </tr>\n  </tbody>\n</table>\n<p>166 rows × 12 columns</p>\n</div>",
      "text/plain": "      datetime    y week  soldout          name   kcal remarks event  payday  \\\n28    2014-1-7  131    火        0  カレー入りソーセージカツ  404.0     NaN   NaN     NaN   \n29    2014-1-8  128    水        0        豚肉の生姜焼  462.0     NaN   NaN     NaN   \n30    2014-1-9  129    木        1        鶏チリソース  435.0     NaN   NaN     NaN   \n31   2014-1-10   87    金        0      手作りロースカツ  440.0     NaN   NaN     1.0   \n32   2014-1-14  129    火        1   鶏の照り焼きマスタード  376.0     NaN   NaN     NaN   \n..         ...  ...  ...      ...           ...    ...     ...   ...     ...   \n201  2014-9-22   29    月        0           筑前煮  395.0     NaN   NaN     NaN   \n202  2014-9-24   59    水        1   白身魚のマスタード焼き  408.0     NaN   NaN     NaN   \n203  2014-9-25   50    木        0       牛カルビ焼き肉  394.0     NaN   NaN     NaN   \n205  2014-9-29   56    月        1      豚肉と玉子の炒め  404.0     NaN   NaN     NaN   \n206  2014-9-30   40    火        0  鶏肉とカシューナッツ炒め  398.0     NaN   NaN     NaN   \n\n    weather precipitation  temperature  \n28       快晴            --          7.3  \n29        曇            --          9.8  \n30        曇            --         10.9  \n31       快晴            --          5.1  \n32       晴れ            --          5.8  \n..      ...           ...          ...  \n201      晴れ            --         25.2  \n202       曇             0         24.8  \n203       曇             0         25.4  \n205      快晴            --         26.6  \n206      快晴            --         28.1  \n\n[166 rows x 12 columns]"
     },
     "execution_count": 11,
     "metadata": {},
     "output_type": "execute_result"
    }
   ],
   "source": [
    "train.dropna(subset=[\"kcal\"])"
   ]
  },
  {
   "cell_type": "markdown",
   "metadata": {},
   "source": [
    "## precipitationには本当に欠損値がないか確認してみましょう\n",
    "- 行の中の値がそれぞれ幾つあるかを確認したい場合は、value_counts関数を使います"
   ]
  },
  {
   "cell_type": "code",
   "execution_count": 13,
   "metadata": {},
   "outputs": [
    {
     "data": {
      "text/plain": "--     169\n0       23\n0.5      9\n1.5      2\n6.5      1\n6        1\n1        1\n2.5      1\nName: precipitation, dtype: int64"
     },
     "execution_count": 13,
     "metadata": {},
     "output_type": "execute_result"
    }
   ],
   "source": [
    "train[\"precipitation\"].value_counts()"
   ]
  },
  {
   "cell_type": "code",
   "execution_count": null,
   "metadata": {},
   "outputs": [],
   "source": []
  }
 ],
 "metadata": {
  "kernelspec": {
   "display_name": "Python 3",
   "language": "python",
   "name": "python3"
  },
  "language_info": {
   "codemirror_mode": {
    "name": "ipython",
    "version": 3
   },
   "file_extension": ".py",
   "mimetype": "text/x-python",
   "name": "python",
   "nbconvert_exporter": "python",
   "pygments_lexer": "ipython3",
   "version": "3.7.4-final"
  }
 },
 "nbformat": 4,
 "nbformat_minor": 2
}